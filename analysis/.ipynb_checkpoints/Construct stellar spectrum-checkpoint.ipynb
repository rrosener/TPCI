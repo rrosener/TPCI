{
 "cells": [
  {
   "cell_type": "code",
   "execution_count": 1,
   "metadata": {},
   "outputs": [
    {
     "name": "stdout",
     "output_type": "stream",
     "text": [
      " ChiantiPy version 0.15.1 \n",
      " found PyQt5 widgets\n",
      " using PyQt5 widgets\n"
     ]
    },
    {
     "name": "stderr",
     "output_type": "stream",
     "text": [
      "/home/shreyas/anaconda3/lib/python3.9/site-packages/ChiantiPy/core/IpyMspectrum.py:9: UserWarning: ipyparallel not found. You won't be able to use the ipymspectrum module\n",
      "  warnings.warn(\"ipyparallel not found. You won't be able to use the ipymspectrum module\")\n"
     ]
    }
   ],
   "source": [
    "import numpy as np\n",
    "import pdb\n",
    "import ChiantiPy.core as ch\n",
    "import matplotlib.pyplot as plt\n",
    "import ChiantiPy.tools.filters as chfilters\n",
    "import astropy.io.fits\n",
    "from scipy.ndimage import uniform_filter"
   ]
  },
  {
   "cell_type": "code",
   "execution_count": null,
   "metadata": {},
   "outputs": [],
   "source": [
    "#Parameters\n",
    "# CGS\n",
    "NM_TO_ANGSTROM = 10\n",
    "AU = 1.5e13\n",
    "PC = 3.086e18\n",
    "h = 6.626e-27\n",
    "c = 3e10\n",
    "k_B = 1.38e-16\n",
    "CM_TO_ANG = 1e8\n",
    "Lsun = 3.828e33\n",
    "\n",
    "\n",
    "# HD209458\n",
    "corona_temp = 1e6\n",
    "corona_density = 1e9 # atoms/cm3 ?\n",
    "total_X_ray_flux = 0.5689 # ergs/s*cm2, at 1AU, Lx = ~1.6e27 ergs/s\n",
    "lyman_flux = 23 # ?\n",
    "dist = 48.3 * PC\n",
    "T_eff = 6026\n",
    "R = 1.2 * 7e10\n",
    "luminosity = 1.702\n",
    "\n",
    "\n",
    "\n",
    "#TOI 1430\n",
    "#corona_temp = 4e6\n",
    "# corona_density = 1e9\n",
    "# total_X_ray_flux = 8\n",
    "# lyman_flux = 23\n",
    "# dist = 41.2 * PC\n",
    "# T_eff = 5067\n",
    "# R = 0.78 * 7e10\n",
    "# Lsun = 3.828e33\n",
    "# luminosity = 0.365\n",
    "\n",
    "# #HD 63433\n",
    "# corona_temp = 4e6\n",
    "# corona_density = 1e9\n",
    "# total_X_ray_flux = 38 #at 1 AU, based on ROSAT\n",
    "# lyman_flux = 56\n",
    "# dist = 22.4 * PC\n",
    "# T_eff = 5670\n",
    "# R = 0.912 * 7e10\n",
    "# Lsun = 3.828e33\n",
    "# luminosity = 0.75\n",
    "\n",
    "\n",
    "#55 Cnc\n",
    "# corona_temp = 2e6\n",
    "# corona_density = 1e10\n",
    "# total_X_ray_flux = 0.158 #at 1 AU, averaging two XMM measurements\n",
    "# lyman_flux = 4\n",
    "# T_eff = 5250\n",
    "# R = 0.964 * 7e10\n",
    "# luminosity = 0.64\n",
    "\n",
    "#TOI 560\n",
    "# corona_temp = 4e6\n",
    "# corona_density = 1e9\n",
    "# total_X_ray_flux = 19 #at 1 AU, based on ROSAT\n",
    "# lyman_flux = 15\n",
    "# dist = 31.6 * PC\n",
    "# T_eff = 4630\n",
    "# R = 0.665 * 7e10\n",
    "# luminosity = 0.183"
   ]
  },
  {
   "cell_type": "code",
   "execution_count": null,
   "metadata": {},
   "outputs": [],
   "source": [
    "temperature = [corona_temp]\n",
    "density = [corona_density]\n",
    "wvl = np.arange(4, 101, 0.05) \n",
    "emeasure = [1e27] #irrelevant, we'll normalize it out\n",
    "\n",
    "s = ch.spectrum(temperature, density, wvl, filter = (chfilters.gaussian,.2), em = emeasure, doContinuum=1, minAbund=1.e-6)"
   ]
  },
  {
   "cell_type": "code",
   "execution_count": null,
   "metadata": {},
   "outputs": [],
   "source": [
    "all_wavelengths = []\n",
    "all_fluxes = []"
   ]
  },
  {
   "cell_type": "code",
   "execution_count": null,
   "metadata": {},
   "outputs": [],
   "source": [
    "#Add X-ray part of spectrum, Chianti\n",
    "\n",
    "chianti_spectrum = s.Spectrum['intensity']\n",
    "norm_factor = total_X_ray_flux / np.trapz(chianti_spectrum, wvl)\n",
    "\n",
    "bin_size = 10\n",
    "lower_edges = np.arange(0, 100, bin_size)\n",
    "upper_edges = bin_size + lower_edges\n",
    "lower_edges[0] = 5 #min wavelength\n",
    "\n",
    "for i in range(len(lower_edges)):\n",
    "    cond = np.logical_and(wvl >= lower_edges[i], wvl < upper_edges[i])   \n",
    "    all_wavelengths += list(np.arange(lower_edges[i], upper_edges[i]))\n",
    "    all_fluxes += (upper_edges[i] - lower_edges[i]) * [norm_factor * np.mean(chianti_spectrum[cond])]\n",
    "\n",
    "#plt.semilogy(midpoints, binned_spectrum) \n",
    "plt.semilogy(all_wavelengths, all_fluxes)\n",
    "print(all_wavelengths)"
   ]
  },
  {
   "cell_type": "code",
   "execution_count": null,
   "metadata": {},
   "outputs": [],
   "source": [
    "plt.loglog(all_wavelengths, all_fluxes)\n",
    "print(np.trapz(all_fluxes, all_wavelengths))"
   ]
  },
  {
   "cell_type": "code",
   "execution_count": null,
   "metadata": {},
   "outputs": [],
   "source": [
    "wavelength_bins = NM_TO_ANGSTROM * np.array([\n",
    "    [10, 20],\n",
    "    [20, 30],\n",
    "    [30, 40],\n",
    "    [40, 50],\n",
    "    [50, 60],\n",
    "    [60, 70],\n",
    "    [70, 80],\n",
    "    [80, 91.2],\n",
    "    [91.2, 117]])\n",
    "print(wavelength_bins.shape)\n",
    "\n",
    "wavelengths = np.array([(b[0] + b[1])/2 for b in wavelength_bins])\n",
    "offsets = np.array([-1.357, -1.3, -0.882, -2.294, -2.098, -1.92, -1.894, -1.811, -1.004])\n",
    "slopes = np.array([0.344, 0.309, 0, 0.258, 0.572, 0.240, 0.518, 0.764, 0.065])\n",
    "\n",
    "ratios = 10**(offsets + slopes * np.log10(lyman_flux))\n",
    "#print(ratios)\n",
    "\n",
    "for i in range(len(ratios)):\n",
    "    bin_width = wavelength_bins[i][1] - wavelength_bins[i][0]\n",
    "\n",
    "    #erg/s/cm^2/A\n",
    "    F_earth = ratios[i] * lyman_flux / bin_width\n",
    "    per_A_wavelengths = np.arange(wavelength_bins[i][0], wavelength_bins[i][1], 1)\n",
    "    all_wavelengths += list(per_A_wavelengths)\n",
    "    all_fluxes += len(per_A_wavelengths) * [F_earth]\n",
    "\n",
    "plt.plot(all_wavelengths, all_fluxes)\n",
    "\n",
    "print(np.trapz(all_fluxes, all_wavelengths))"
   ]
  },
  {
   "cell_type": "code",
   "execution_count": null,
   "metadata": {},
   "outputs": [],
   "source": [
    "#Now add in reconstructed Ly alpha line\n",
    "center = 1215.67\n",
    "width = 9.4 / 2.355\n",
    "A = lyman_flux / (np.sqrt(2 * np.pi) * width)\n",
    "wavelengths = np.arange(all_wavelengths[-1] + 1, 1230)\n",
    "profile = A * np.exp(-(wavelengths - center)**2/2/width**2)\n",
    "plt.plot(wavelengths, profile)\n",
    "\n",
    "print(np.trapz(profile, wavelengths))\n",
    "\n",
    "all_wavelengths += list(wavelengths)\n",
    "all_fluxes += list(profile)"
   ]
  },
  {
   "cell_type": "code",
   "execution_count": null,
   "metadata": {},
   "outputs": [],
   "source": [
    "wavelengths = astropy.io.fits.open(\"WAVE_PHOENIX-ACES-AGSS-COND-2011.fits\")[0].data\n",
    "hdul = astropy.io.fits.open(\"toi1430_spectrum.fits\")\n",
    "\n",
    "spectrum = hdul[0].data * (R/AU)**2 / CM_TO_ANG\n",
    "inferred_luminosity = np.trapz(spectrum, wavelengths) * 4*np.pi*AU**2\n",
    "print(luminosity * Lsun / inferred_luminosity)\n",
    "spectrum *= (luminosity * Lsun / inferred_luminosity)\n",
    "spectrum = uniform_filter(spectrum, 110)\n",
    "\n",
    "plt.loglog(wavelengths, spectrum)\n",
    "\n",
    "binned_wavelengths = np.arange(all_wavelengths[-1] + 1, max(wavelengths), 10)\n",
    "all_wavelengths += list(binned_wavelengths)\n",
    "all_fluxes += list(np.interp(binned_wavelengths, wavelengths, spectrum))"
   ]
  },
  {
   "cell_type": "code",
   "execution_count": null,
   "metadata": {},
   "outputs": [],
   "source": [
    "max_wavelength = 55000 #Angstroms\n",
    "\n",
    "binned_wavelengths = np.arange(all_wavelengths[-1] + 1, max_wavelength, 10)\n",
    "bb_fluxes = np.pi*2*h*c**2/(binned_wavelengths / CM_TO_ANG)**5 / (np.exp(h*c/(binned_wavelengths / CM_TO_ANG)/k_B/T_eff) - 1) * (R/AU)**2 / CM_TO_ANG\n",
    "\n",
    "all_wavelengths += list(binned_wavelengths)\n",
    "all_fluxes += list(bb_fluxes)\n",
    "\n",
    "print(bb_fluxes)\n",
    "plt.plot(binned_wavelengths, bb_fluxes)"
   ]
  },
  {
   "cell_type": "code",
   "execution_count": null,
   "metadata": {},
   "outputs": [],
   "source": [
    "all_wavelengths = np.array(all_wavelengths)\n",
    "all_fluxes = np.array(all_fluxes)\n",
    "#plt.figure(figsize=(16,10))\n",
    "plt.loglog(all_wavelengths, all_fluxes)\n",
    "plt.ylim(1e-6)\n",
    "#plt.xlim(1210, 1300)\n",
    "plt.xlabel(\"Wavelength ($\\AA$)\")"
   ]
  },
  {
   "cell_type": "code",
   "execution_count": null,
   "metadata": {},
   "outputs": [],
   "source": [
    "np.trapz(all_fluxes, all_wavelengths) * (4*np.pi*AU**2)/3.828e33"
   ]
  },
  {
   "cell_type": "code",
   "execution_count": null,
   "metadata": {},
   "outputs": [],
   "source": [
    "plt.plot(wavelengths[1:], np.diff(wavelengths))"
   ]
  },
  {
   "cell_type": "code",
   "execution_count": null,
   "metadata": {},
   "outputs": [],
   "source": [
    "output_filename = \"extended_spectrum_xspec\"\n",
    "with open(output_filename, \"w\") as f:\n",
    "    for i in range(len(all_wavelengths)):\n",
    "        f.write(\"{} {}\\n\".format(all_wavelengths[i], all_fluxes[i]))"
   ]
  },
  {
   "cell_type": "code",
   "execution_count": null,
   "metadata": {},
   "outputs": [],
   "source": [
    "c = 3e10\n",
    "frequencies = c / (all_wavelengths / CM_TO_ANG)\n",
    "spec_freq = (all_fluxes * CM_TO_ANG) * (all_wavelengths / CM_TO_ANG)**2 / c\n",
    "#spec_freq[all_wavelengths < 1250] = 1e-23\n",
    "\n",
    "frequencies = frequencies[::-1]\n",
    "spec_freq = spec_freq[::-1]\n",
    "\n",
    "plt.plot(np.log10(frequencies), np.log10(spec_freq))\n",
    "plt.ylim(-20,)"
   ]
  },
  {
   "cell_type": "code",
   "execution_count": null,
   "metadata": {},
   "outputs": [],
   "source": [
    "#Print TPCI initialization\n",
    "with open(\"tpci_spectrum.ini\", \"w\") as f:\n",
    "    f.write(\"interpolate\\n\")\n",
    "    for i in range(len(frequencies)):\n",
    "        f.write(\"continue {} {}\\n\".format(np.log10(frequencies[i]), np.log10(spec_freq[i])))\n",
    "    f.write(\"luminosity solar {} linear\\n\".format(luminosity))"
   ]
  },
  {
   "cell_type": "code",
   "execution_count": null,
   "metadata": {},
   "outputs": [],
   "source": []
  }
 ],
 "metadata": {
  "kernelspec": {
   "display_name": "Python 3 (ipykernel)",
   "language": "python",
   "name": "python3"
  },
  "language_info": {
   "codemirror_mode": {
    "name": "ipython",
    "version": 3
   },
   "file_extension": ".py",
   "mimetype": "text/x-python",
   "name": "python",
   "nbconvert_exporter": "python",
   "pygments_lexer": "ipython3",
   "version": "3.9.13"
  }
 },
 "nbformat": 4,
 "nbformat_minor": 4
}
